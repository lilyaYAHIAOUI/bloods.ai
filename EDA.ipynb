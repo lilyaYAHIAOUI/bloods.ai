{
  "nbformat": 4,
  "nbformat_minor": 0,
  "metadata": {
    "colab": {
      "name": "EDA.ipynb",
      "provenance": [],
      "collapsed_sections": [],
      "toc_visible": true,
      "mount_file_id": "1tZvLmm6xt5tIfQOtWKKA4vXHBqco7a2i",
      "authorship_tag": "ABX9TyM5Dz3mzfBp8AZvfpebhaQV",
      "include_colab_link": true
    },
    "kernelspec": {
      "name": "python3",
      "display_name": "Python 3"
    },
    "language_info": {
      "name": "python"
    }
  },
  "cells": [
    {
      "cell_type": "markdown",
      "metadata": {
        "id": "view-in-github",
        "colab_type": "text"
      },
      "source": [
        "<a href=\"https://colab.research.google.com/github/lilyaYAHIAOUI/bloods.ai/blob/main/EDA.ipynb\" target=\"_parent\"><img src=\"https://colab.research.google.com/assets/colab-badge.svg\" alt=\"Open In Colab\"/></a>"
      ]
    },
    {
      "cell_type": "code",
      "execution_count": null,
      "metadata": {
        "id": "6-SG5FcaVoXy"
      },
      "outputs": [],
      "source": [
        "import numpy as np\n",
        "import pandas as pd\n",
        "import matplotlib.pyplot as plt\n",
        "import matplotlib\n",
        "import seaborn as sns"
      ]
    },
    {
      "cell_type": "code",
      "source": [
        "MAIN_DIR = \"/content/drive/MyDrive/competition/Zindi/bloods.ai/data\" # Directory with your files\n",
        "traincsv = MAIN_DIR+\"/Update_train.csv\"\n",
        "testcsv = MAIN_DIR+\"/Updated_Test.csv\""
      ],
      "metadata": {
        "id": "jLQDtEkkckVS"
      },
      "execution_count": null,
      "outputs": []
    },
    {
      "cell_type": "code",
      "source": [
        "train_df = pd.read_csv(traincsv)\n",
        "train_df.head()"
      ],
      "metadata": {
        "id": "xljpAlendhfq"
      },
      "execution_count": null,
      "outputs": []
    },
    {
      "cell_type": "code",
      "source": [
        "train_df.shape"
      ],
      "metadata": {
        "id": "mMsNno5hdp1s"
      },
      "execution_count": null,
      "outputs": []
    },
    {
      "cell_type": "code",
      "source": [
        "train_df.head().T"
      ],
      "metadata": {
        "id": "E4fnA2T7dwK3"
      },
      "execution_count": null,
      "outputs": []
    },
    {
      "cell_type": "code",
      "source": [
        "test_df = pd.read_csv(testcsv)\n",
        "test_df.head()"
      ],
      "metadata": {
        "id": "04-S0Gr5f_56"
      },
      "execution_count": null,
      "outputs": []
    },
    {
      "cell_type": "code",
      "source": [
        "test_df.head().T"
      ],
      "metadata": {
        "id": "2eKMhtMjfuXE"
      },
      "execution_count": null,
      "outputs": []
    },
    {
      "cell_type": "code",
      "source": [
        "print ('Train shape: %d rows' % train_df.shape[0])\n",
        "print ('Test shape: %d rows'  % test_df.shape[0])"
      ],
      "metadata": {
        "id": "-xcmLKTjf6eO"
      },
      "execution_count": null,
      "outputs": []
    },
    {
      "cell_type": "code",
      "source": [
        "train_df[\"id\"].nunique()"
      ],
      "metadata": {
        "id": "3e1gWV-fgSE5"
      },
      "execution_count": null,
      "outputs": []
    },
    {
      "cell_type": "code",
      "source": [
        ""
      ],
      "metadata": {
        "id": "2sj_-oVU3QHA"
      },
      "execution_count": null,
      "outputs": []
    },
    {
      "cell_type": "code",
      "source": [
        "train_df.columns"
      ],
      "metadata": {
        "id": "pXss59SH3QCk"
      },
      "execution_count": null,
      "outputs": []
    },
    {
      "cell_type": "code",
      "source": [
        "numerical= train_df.select_dtypes(include = 'number').columns\n",
        "\n",
        "categorical = train_df.select_dtypes(include = 'object').columns\n",
        "\n",
        "print(f'Numerical Columns:  {train_df[numerical].columns}')\n",
        "print('\\n')\n",
        "print(f'Categorical Columns: {train_df[categorical].columns}')"
      ],
      "metadata": {
        "id": "iltLExJH3P5F"
      },
      "execution_count": null,
      "outputs": []
    },
    {
      "cell_type": "code",
      "source": [
        "train_df[\"id\"]= train_df[\"id\"].astype(\"str\")\n",
        "train_df[\"donation_id\"]= train_df[\"donation_id\"].astype(\"str\")\n",
        "\n",
        "test_df[\"id\"]= test_df[\"id\"].astype(\"str\")\n",
        "test_df[\"donation_id\"]= test_df[\"donation_id\"].astype(\"str\")"
      ],
      "metadata": {
        "id": "KvYmLjNO3PQZ"
      },
      "execution_count": null,
      "outputs": []
    },
    {
      "cell_type": "markdown",
      "source": [
        "# Explore individual features"
      ],
      "metadata": {
        "id": "lmytZKKqhqxU"
      }
    },
    {
      "cell_type": "code",
      "source": [
        "sns.countplot(train_df[\"hdl_cholesterol_human\"])"
      ],
      "metadata": {
        "id": "AGOgca78ghp8"
      },
      "execution_count": null,
      "outputs": []
    },
    {
      "cell_type": "code",
      "source": [
        "sns.countplot(train_df[\"hemoglobin(hgb)_human\"])"
      ],
      "metadata": {
        "id": "ogWQ3tdGj1-1"
      },
      "execution_count": null,
      "outputs": []
    },
    {
      "cell_type": "code",
      "source": [
        "sns.countplot(train_df[\"cholesterol_ldl_human\"])"
      ],
      "metadata": {
        "id": "G9ubVO34j-ah"
      },
      "execution_count": null,
      "outputs": []
    },
    {
      "cell_type": "code",
      "source": [
        "plt.plot(train_df[\"absorbance0\"],'.')"
      ],
      "metadata": {
        "id": "hb1AGBs_kEe9"
      },
      "execution_count": null,
      "outputs": []
    },
    {
      "cell_type": "code",
      "source": [
        "plt.plot(train_df[\"absorbance1\"],'.')"
      ],
      "metadata": {
        "id": "fofIRsfDnqfd"
      },
      "execution_count": null,
      "outputs": []
    },
    {
      "cell_type": "code",
      "source": [
        "plt.plot(train_df[\"absorbance2\"],'.')"
      ],
      "metadata": {
        "id": "k2iAIqVooHTp"
      },
      "execution_count": null,
      "outputs": []
    },
    {
      "cell_type": "code",
      "source": [
        "plt.plot(train_df[\"absorbance3\"],'.') # from these plot it's clear there's outlier"
      ],
      "metadata": {
        "id": "KJMDna6MoM0_"
      },
      "execution_count": null,
      "outputs": []
    },
    {
      "cell_type": "code",
      "source": [
        "train_df.describe()"
      ],
      "metadata": {
        "id": "6WNmuEEAoQLp"
      },
      "execution_count": null,
      "outputs": []
    },
    {
      "cell_type": "code",
      "source": [
        "info =train_df.info()\n"
      ],
      "metadata": {
        "id": "qplJ4S5Mor9J"
      },
      "execution_count": null,
      "outputs": []
    },
    {
      "cell_type": "code",
      "source": [
        "train_df.isna().sum()\n"
      ],
      "metadata": {
        "id": "EYbnMy-AozOi"
      },
      "execution_count": null,
      "outputs": []
    },
    {
      "cell_type": "code",
      "source": [
        "test_df.isna().sum()"
      ],
      "metadata": {
        "id": "ePbAekjYsVv-"
      },
      "execution_count": null,
      "outputs": []
    },
    {
      "cell_type": "markdown",
      "source": [
        "# Explore feature relations"
      ],
      "metadata": {
        "id": "RD6YF_cehy1h"
      }
    },
    {
      "cell_type": "markdown",
      "source": [
        "## scatter plot"
      ],
      "metadata": {
        "id": "-qqeppiTpKg0"
      }
    },
    {
      "cell_type": "code",
      "source": [
        "def scatterplot(colA, colB, colC, colD):\n",
        "  fig, axes = plt.subplots(nrows=1,ncols=2, figsize=(18,6))\n",
        "\n",
        "  sns.scatterplot( x=colA, y=colB, color=\"crimson\", ax=axes[0])\n",
        "\n",
        "  axes[0].set_xlabel(axes[0].get_xlabel(), fontsize=18)\n",
        "  axes[0].set_ylabel(axes[0].get_ylabel(), fontsize=18)\n",
        "\n",
        "\n",
        "  x=sns.scatterplot( x=colC, y=colD, color='crimson', ax=axes[1])\n",
        "\n",
        "  axes[1].set_xlabel(axes[1].get_xlabel(), fontsize=18)\n",
        "  axes[1].set_ylabel(axes[1].get_ylabel(), fontsize=18)\n",
        "\n",
        "  plt.show()\n"
      ],
      "metadata": {
        "id": "nf4rcQXTtbJW"
      },
      "execution_count": null,
      "outputs": []
    },
    {
      "cell_type": "code",
      "source": [
        "scatterplot(train_df[\"absorbance0\"], train_df[\"absorbance1\"], train_df[\"absorbance2\"], train_df[\"absorbance1\"])"
      ],
      "metadata": {
        "id": "ev5xlSoes2yk"
      },
      "execution_count": null,
      "outputs": []
    },
    {
      "cell_type": "code",
      "source": [
        "scatterplot(train_df[\"absorbance50\"], train_df[\"absorbance51\"], train_df[\"absorbance52\"], train_df[\"absorbance51\"])"
      ],
      "metadata": {
        "id": "kYNvre1Eq456"
      },
      "execution_count": null,
      "outputs": []
    },
    {
      "cell_type": "code",
      "source": [
        "scatterplot(train_df[\"absorbance70\"], train_df[\"absorbance71\"], train_df[\"absorbance72\"], train_df[\"absorbance71\"])"
      ],
      "metadata": {
        "id": "KGbXwiabuJ2E"
      },
      "execution_count": null,
      "outputs": []
    },
    {
      "cell_type": "code",
      "source": [
        "scatterplot(train_df[\"absorbance100\"], train_df[\"absorbance101\"], train_df[\"absorbance102\"], train_df[\"absorbance101\"])"
      ],
      "metadata": {
        "id": "tywgYEJwvk9n"
      },
      "execution_count": null,
      "outputs": []
    },
    {
      "cell_type": "code",
      "source": [
        "scatterplot(train_df[\"absorbance120\"], train_df[\"absorbance121\"], train_df[\"absorbance122\"], train_df[\"absorbance121\"])"
      ],
      "metadata": {
        "id": "Gi4Vo3RRvyzh"
      },
      "execution_count": null,
      "outputs": []
    },
    {
      "cell_type": "code",
      "source": [
        "scatterplot(train_df[\"absorbance140\"], train_df[\"absorbance141\"], train_df[\"absorbance142\"], train_df[\"absorbance141\"])"
      ],
      "metadata": {
        "id": "u6Ly0mxLv90P"
      },
      "execution_count": null,
      "outputs": []
    },
    {
      "cell_type": "markdown",
      "source": [
        "From the scatter plots, we can say that some feature are repeated\n",
        "\n",
        "For example, when we plot `absorbance140` against `absorbance141` , we got approximately the same plot when we plot `absorbance142` against `absorbance141`"
      ],
      "metadata": {
        "id": "RhPwx4R_wJVV"
      }
    },
    {
      "cell_type": "markdown",
      "source": [
        "let see if this is true with **test set**\n",
        "\n",
        "\n",
        "\n"
      ],
      "metadata": {
        "id": "3I1sghNyw0uV"
      }
    },
    {
      "cell_type": "code",
      "source": [
        "scatterplot(test_df[\"absorbance0\"], test_df[\"absorbance1\"], test_df[\"absorbance2\"], test_df[\"absorbance1\"])"
      ],
      "metadata": {
        "id": "TOuNt9xowEy0"
      },
      "execution_count": null,
      "outputs": []
    },
    {
      "cell_type": "code",
      "source": [
        "scatterplot(test_df[\"absorbance50\"], test_df[\"absorbance51\"], test_df[\"absorbance52\"], test_df[\"absorbance51\"])"
      ],
      "metadata": {
        "id": "OUygM-qtugub"
      },
      "execution_count": null,
      "outputs": []
    },
    {
      "cell_type": "code",
      "source": [
        "scatterplot(test_df[\"absorbance70\"], test_df[\"absorbance71\"], test_df[\"absorbance72\"], test_df[\"absorbance71\"])"
      ],
      "metadata": {
        "id": "iPRbS6_eyP8T"
      },
      "execution_count": null,
      "outputs": []
    },
    {
      "cell_type": "code",
      "source": [
        "scatterplot(test_df[\"absorbance100\"], test_df[\"absorbance101\"], test_df[\"absorbance102\"], test_df[\"absorbance101\"])"
      ],
      "metadata": {
        "id": "LGWDlbvxygtD"
      },
      "execution_count": null,
      "outputs": []
    },
    {
      "cell_type": "code",
      "source": [
        "scatterplot(test_df[\"absorbance120\"], test_df[\"absorbance121\"], test_df[\"absorbance122\"], test_df[\"absorbance121\"])"
      ],
      "metadata": {
        "id": "OL2mvvzpyxje"
      },
      "execution_count": null,
      "outputs": []
    },
    {
      "cell_type": "markdown",
      "source": [
        "Wow, this is totally different. Maybe we got this results because of **outliers** in train test."
      ],
      "metadata": {
        "id": "7E3jxDXOzANH"
      }
    },
    {
      "cell_type": "markdown",
      "source": [
        "## The correlation Matrix"
      ],
      "metadata": {
        "id": "hLrZp8Av1kvC"
      }
    },
    {
      "cell_type": "code",
      "source": [
        "correlation_matrix = train_df[numerical].corr()\n",
        "correlation_matrix\n"
      ],
      "metadata": {
        "id": "cdpkkf0Qzsgk"
      },
      "execution_count": null,
      "outputs": []
    },
    {
      "cell_type": "code",
      "source": [
        "correlation_matrix.shape"
      ],
      "metadata": {
        "id": "fh032Uls5U2r"
      },
      "execution_count": null,
      "outputs": []
    },
    {
      "cell_type": "code",
      "source": [
        "type(correlation_matrix)"
      ],
      "metadata": {
        "id": "cqraBhiq5lqO"
      },
      "execution_count": null,
      "outputs": []
    },
    {
      "cell_type": "code",
      "source": [
        "def show_correlation_matrix( num_ax, num_ay):\n",
        "  plt.figure(figsize=(20,12))\n",
        "  sns.heatmap(correlation_matrix.iloc[:num_ax,:num_ay], cmap=\"coolwarm_r\",annot_kws={'fontsize':15}, annot=True, vmin=-1, vmax=1)\n",
        "  plt.show()\n"
      ],
      "metadata": {
        "id": "6QjqCB_W56I2"
      },
      "execution_count": null,
      "outputs": []
    },
    {
      "cell_type": "code",
      "source": [
        "show_correlation_matrix( 30, 30)"
      ],
      "metadata": {
        "id": "wFDV8HN83k5D"
      },
      "execution_count": null,
      "outputs": []
    },
    {
      "cell_type": "code",
      "source": [
        ""
      ],
      "metadata": {
        "id": "wx2Yzk49cIfw"
      },
      "execution_count": null,
      "outputs": []
    }
  ]
}